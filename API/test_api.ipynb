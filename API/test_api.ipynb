{
 "cells": [
  {
   "cell_type": "code",
   "execution_count": 2,
   "metadata": {},
   "outputs": [
    {
     "name": "stderr",
     "output_type": "stream",
     "text": [
      "/home/sc/anaconda3/envs/aitongue/lib/python3.10/site-packages/tqdm/auto.py:21: TqdmWarning: IProgress not found. Please update jupyter and ipywidgets. See https://ipywidgets.readthedocs.io/en/stable/user_install.html\n",
      "  from .autonotebook import tqdm as notebook_tqdm\n"
     ]
    }
   ],
   "source": [
    "import os\n",
    "\n",
    "from openai import OpenAI\n",
    "from transformers.utils.versions import require_version\n"
   ]
  },
  {
   "cell_type": "code",
   "execution_count": 3,
   "metadata": {},
   "outputs": [],
   "source": [
    "instruction_prompt = \"\"\"\n",
    "请根据给定的舌象图片及其标签数据，生成一段描述舌象特征的文字。描述应包含以下必填项：\n",
    "- 舌质颜色\n",
    "- 舌体大小（胖、胖瘦适中、瘦）\n",
    "- 舌面湿润或干燥 (湿润、偏润、润燥适中、偏燥、干燥)\n",
    "- 舌边有无齿痕 （有齿痕、无齿痕）\n",
    "- 舌面有无裂纹、有无点刺 （有裂纹、无裂纹、有点刺、无点刺，两种症状都需要描述）\n",
    "- 舌体老嫩 （嫩、偏嫩、老嫩适中、偏老、老）\n",
    "- 舌苔覆盖范围 （全苔、舌根部、舌中部、舌尖部、舌左部、舌右部、无偏苔）\n",
    "- 舌苔表现形式\n",
    "\n",
    "舌苔的表现形式必须按照以下规则描述：\n",
    "- 舌苔颜色 + 厚薄 + 腻腐（如：苔黄厚腻）\n",
    "\n",
    "\"\"\"\n"
   ]
  },
  {
   "cell_type": "markdown",
   "metadata": {},
   "source": [
    "## LLaMAFactory API调用示例(Recommend)"
   ]
  },
  {
   "cell_type": "code",
   "execution_count": 3,
   "metadata": {},
   "outputs": [],
   "source": [
    "client = OpenAI(\n",
    "        api_key=\"{}\".format(os.environ.get(\"API_KEY\", \"0\")),\n",
    "        base_url=\"http://localhost:{}/v1\".format(os.environ.get(\"API_PORT\", 8000))\n",
    "    )\n",
    "messages = []\n",
    "messages.append(\n",
    "    {\n",
    "        \"role\": \"system\",\n",
    "        \"content\": instruction_prompt\n",
    "    }\n",
    ")\n",
    "messages.append(\n",
    "    {\n",
    "        \"role\": \"user\",\n",
    "        \"content\": [\n",
    "            {\"type\": \"text\", \"text\": \"描述这个舌象图片\"},\n",
    "            {\n",
    "                \"type\": \"image_url\",\n",
    "                \"image_url\": {\"url\": \"/home/sc/LLM_Learning/AI_TongueDiag/data/images/0003-1.jpg\"}\n",
    "            }\n",
    "        ]\n",
    "    }\n",
    ")"
   ]
  },
  {
   "cell_type": "markdown",
   "metadata": {},
   "source": [
    "## 非流式输出"
   ]
  },
  {
   "cell_type": "code",
   "execution_count": null,
   "metadata": {},
   "outputs": [],
   "source": [
    "result = client.chat.completions.create(messages=messages, model=\"Qwen2-VL-7B-Instruct\")\n",
    "\n",
    "messages.append(result.choices[0].message)\n",
    "print(\"Round 1:\", result.choices[0].message.content)"
   ]
  },
  {
   "cell_type": "markdown",
   "metadata": {},
   "source": [
    "## 流式输出"
   ]
  },
  {
   "cell_type": "code",
   "execution_count": null,
   "metadata": {},
   "outputs": [],
   "source": [
    "import time\n",
    "# create variables to collect the stream of chunks\n",
    "start_time = time.time()\n",
    "\n",
    "result = client.chat.completions.create(messages=messages, model=\"Qwen2-VL-7B-Instruct\", stream=True)\n",
    "\n",
    "collected_chunks = []\n",
    "collected_messages = []\n",
    "# iterate through the stream of events\n",
    "for chunk in result:\n",
    "    chunk_time = time.time() - start_time  # calculate the time delay of the chunk\n",
    "    collected_chunks.append(chunk)  # save the event response\n",
    "    chunk_message = chunk.choices[0].delta  # extract the message\n",
    "    collected_messages.append(chunk_message)  # save the message\n",
    "    print(f\"Message received {chunk_time:.2f} seconds after request: {chunk_message}\")  # print the delay and text\n",
    "\n",
    "# print the time delay and text received\n",
    "print(f\"Full response received {chunk_time:.2f} seconds after request\")\n"
   ]
  },
  {
   "cell_type": "code",
   "execution_count": 10,
   "metadata": {},
   "outputs": [
    {
     "name": "stdout",
     "output_type": "stream",
     "text": [
      "Full conversation received: 根据您输入的图片，模型分析的舌象结果是：\n",
      "    -舌质颜色：淡红；\n",
      "    -舌体大小：瘦；\n",
      "    -舌面湿润程度：润燥适中；\n",
      "    -舌边：无齿痕；\n",
      "    -舌面：无裂纹、无点刺；\n",
      "    -舌质老嫩程度：老嫩适中；\n",
      "    -舌苔主要覆盖情况：无偏苔；\n",
      "    -舌苔表现形式：苔偏白厚薄适中无腻腐\n",
      "    \n",
      "    \n"
     ]
    }
   ],
   "source": [
    "full_reply_content = ''\n",
    "for m in collected_messages:\n",
    "    if m.content is not None:\n",
    "        full_reply_content += m.content\n",
    "    else:\n",
    "        full_reply_content +=  ''\n",
    "\n",
    "print(f\"Full conversation received: {full_reply_content}\")"
   ]
  },
  {
   "cell_type": "markdown",
   "metadata": {},
   "source": [
    "## vllm版本 API调用"
   ]
  },
  {
   "cell_type": "code",
   "execution_count": null,
   "metadata": {},
   "outputs": [],
   "source": [
    "import base64\n",
    "import requests\n",
    "import json\n",
    "\n",
    "def encode_image(image_path):       # 编码本地图片的函数\n",
    "    with open(image_path, \"rb\") as image_file:\n",
    "        return base64.b64encode(image_file.read()).decode('utf-8')\n",
    "\n",
    "# 1. url\n",
    "url = \"http://localhost:{}/v1/chat/completions\".format(os.environ.get(\"API_PORT\", 8000))\n",
    "\n",
    "# 2. data\n",
    "image_path = \"/home/sc/LLM_Learning/AI_TongueDiag/data/images/0003-1.jpg\"\n",
    "base64_image = encode_image(image_path)\n",
    "data = {\n",
    "    \"model\": \"Qwen2-VL-7B-Instruct\",\n",
    "    \"messages\": [\n",
    "            {\n",
    "        \"role\": \"system\",\n",
    "        \"content\": instruction_prompt,\n",
    "    },\n",
    "    {\n",
    "        \"role\": \"user\",\n",
    "        \"content\": [\n",
    "            {\"type\": \"text\", \"text\": \"描述这个舌象图片\"},\n",
    "            {\n",
    "                \"type\": \"image_url\",\n",
    "                \"image_url\": {\"url\": f\"data:image/jpeg;base64,{base64_image}\"},\n",
    "            }\n",
    "        ]\n",
    "    }\n",
    "    ]\n",
    "}\n",
    "\n",
    "\n",
    "# 3.将字典转换为 JSON 字符串\n",
    "json_payload = json.dumps(data)\n",
    "\n",
    "# 4.发送 POST 请求\n",
    "headers = {'Content-Type': 'application/json'}\n",
    "response = requests.post(url, data=json_payload, headers=headers)\n",
    "\n",
    "# 5.打印响应内容\n",
    "print(response.json())"
   ]
  },
  {
   "cell_type": "code",
   "execution_count": 13,
   "metadata": {},
   "outputs": [
    {
     "name": "stdout",
     "output_type": "stream",
     "text": [
      "根据您输入的图片，模型分析的舌象结果是：\n",
      "    -舌质颜色：淡红；\n",
      "    -舌体大小：瘦；\n",
      "    -舌面湿润程度：润燥适中；\n",
      "    -舌边：无齿痕；\n",
      "    -舌面：有裂纹、有点刺；\n",
      "    -舌质老嫩程度：老嫩适中；\n",
      "    -舌苔主要覆盖情况：无偏苔；\n",
      "    -舌苔表现形式：苔偏白厚薄适中无腻腐\n",
      "    \n",
      "    \n"
     ]
    }
   ],
   "source": [
    "print(response.json()['choices'][0]['message']['content'])"
   ]
  },
  {
   "cell_type": "markdown",
   "metadata": {},
   "source": [
    "## Huggingface-FastAPI API调用"
   ]
  },
  {
   "cell_type": "code",
   "execution_count": 6,
   "metadata": {},
   "outputs": [],
   "source": [
    "client = OpenAI(\n",
    "        api_key=\"{}\".format(os.environ.get(\"API_KEY\", \"0\")),\n",
    "        base_url=\"http://localhost:{}/v1\".format(os.environ.get(\"API_PORT\", 8000))\n",
    "    )\n",
    "messages = []\n",
    "messages.append(\n",
    "    {\n",
    "        \"role\": \"system\",\n",
    "        \"content\": instruction_prompt\n",
    "    }\n",
    ")\n",
    "messages.append(\n",
    "    {\n",
    "        \"role\": \"user\",\n",
    "        \"content\": [\n",
    "            {\"type\": \"text\", \"text\": \"描述这个舌象图片\"},\n",
    "            {\n",
    "                \"type\": \"image\",\n",
    "                \"image\": \"/home/sc/LLM_Learning/AI_TongueDiag/data/images/0003-1.jpg\"\n",
    "            }\n",
    "        ]\n",
    "    }\n",
    ")"
   ]
  },
  {
   "cell_type": "code",
   "execution_count": null,
   "metadata": {},
   "outputs": [],
   "source": [
    "result = client.chat.completions.create(messages=messages, model=\"Qwen2-VL-7B-Instruct\")\n",
    "\n",
    "messages.append(result.choices[0].message)\n",
    "print(\"Round 1:\", result.choices[0].text)"
   ]
  },
  {
   "cell_type": "code",
   "execution_count": null,
   "metadata": {},
   "outputs": [],
   "source": []
  }
 ],
 "metadata": {
  "kernelspec": {
   "display_name": "aitongue",
   "language": "python",
   "name": "python3"
  },
  "language_info": {
   "codemirror_mode": {
    "name": "ipython",
    "version": 3
   },
   "file_extension": ".py",
   "mimetype": "text/x-python",
   "name": "python",
   "nbconvert_exporter": "python",
   "pygments_lexer": "ipython3",
   "version": "3.10.16"
  }
 },
 "nbformat": 4,
 "nbformat_minor": 2
}
