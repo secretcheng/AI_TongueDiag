{
 "cells": [
  {
   "cell_type": "code",
   "execution_count": 19,
   "metadata": {},
   "outputs": [
    {
     "name": "stdout",
     "output_type": "stream",
     "text": [
      "数据处理完成，已保存到 merged_data.json\n"
     ]
    }
   ],
   "source": [
    "import json\n",
    "import re\n",
    "\n",
    "author = \"SecretCheng\"\n",
    "name = \"通义舌象助手\"\n",
    "\n",
    "# 读取包含output字段的JSON文件\n",
    "with open('./data/json/identity.json', 'r', encoding='utf-8') as f:\n",
    "    data = json.load(f)\n",
    "\n",
    "# 使用正则表达式替换output字段中的{name}和{author}\n",
    "for item in data:\n",
    "    if 'output' in item:\n",
    "        item['output'] = re.sub(r'{{name}}', name, item['output'])\n",
    "        item['output'] = re.sub(r'{{author}}', author, item['output'])\n",
    "\n",
    "\n",
    "with open('./data/json/tongue_dataset.jsonl', 'r', encoding='utf-8') as f:\n",
    "    jsonl_data = json.load(f)\n",
    "\n",
    "\n",
    "# 合并两个数据集\n",
    "merged_data = data + jsonl_data\n",
    "\n",
    "# 将合并后的数据保存为新的JSON文件\n",
    "with open('./data/json/tongue_identity_dataset.json', 'w', encoding='utf-8') as f:\n",
    "    json.dump(merged_data, f, ensure_ascii=False, indent=4)\n",
    "\n",
    "print(\"数据处理完成，已保存到 tongue_identity_dataset.json\")"
   ]
  },
  {
   "cell_type": "code",
   "execution_count": 15,
   "metadata": {},
   "outputs": [
    {
     "data": {
      "text/plain": [
       "{'instruction': '根据提供的信息，任应秋医学丛书中的《中警羊医舌诊》一书主要讨论了哪些内容？请简要描述其主要内容。',\n",
       " 'input': '',\n",
       " 'output': '根据提供的图书在版编目（CIP）信息，《中警羊医舌诊》是任应秋医学丛书中的一部分，但具体该书的主要内容并未详细列出。从书名“中警羊医舌诊”可以推测这本书可能涉及中医通过观察舌头来诊断疾病的方法和理论。然而，没有更多信息可以直接描述其主要内容。如果需要了解更详细的讨论内容，建议直接阅读该书籍或查找更多相关资料。'}"
      ]
     },
     "execution_count": 15,
     "metadata": {},
     "output_type": "execute_result"
    }
   ],
   "source": [
    "data[0]"
   ]
  },
  {
   "cell_type": "code",
   "execution_count": null,
   "metadata": {},
   "outputs": [],
   "source": []
  }
 ],
 "metadata": {
  "kernelspec": {
   "display_name": "tc_llm",
   "language": "python",
   "name": "python3"
  },
  "language_info": {
   "codemirror_mode": {
    "name": "ipython",
    "version": 3
   },
   "file_extension": ".py",
   "mimetype": "text/x-python",
   "name": "python",
   "nbconvert_exporter": "python",
   "pygments_lexer": "ipython3",
   "version": "3.10.15"
  }
 },
 "nbformat": 4,
 "nbformat_minor": 2
}
